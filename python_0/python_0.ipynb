{
  "nbformat": 4,
  "nbformat_minor": 0,
  "metadata": {
    "colab": {
      "provenance": []
    },
    "kernelspec": {
      "name": "python3",
      "display_name": "Python 3"
    },
    "language_info": {
      "name": "python"
    }
  },
  "cells": [
    {
      "cell_type": "markdown",
      "source": [
        "[![Open In Colab](https://colab.research.google.com/assets/colab-badge.svg)](https://colab.research.google.com/drive/10viCuOVWnXoLKC3oT71FsDuZNnlAoPnM?usp=sharing)\n",
        "\n",
        "## How to Start Learning from This Notebook\n",
        "\n",
        "- Look for the **\"Open in Colab\"** button at the top of this page.  \n",
        "- Click it — this will open the notebook in **Google Colab**, which lets you run the code directly in your browser without installing anything.  \n",
        "- Once the notebook is open in Colab:  \n",
        "  1. Press **Ctrl + F9** (or go to **Runtime → Run all**)  \n",
        "  2. This will run all the code from top to bottom automatically.  \n",
        "- Wait until it finishes — you’ll see outputs and results appear right under each code cell.  \n",
        "\n",
        "You’re now ready to follow along and learn step-by-step. 🚀\n"
      ],
      "metadata": {
        "id": "gytWWBo4Kq5M"
      }
    },
    {
      "cell_type": "markdown",
      "source": [
        "## Introduction\n",
        "\n",
        "Up to now, we’ve learned:  \n",
        "- How to make simple web pages using **HTML** and **CSS**.  \n",
        "- How to use **Git** and **GitHub** to save our work, track changes, and work together with others.  \n",
        "\n",
        "Today, we’re starting with **Python** — one of the main programming languages we’ll use in this course.  \n",
        "Python is simple to read, easy to write, and super powerful for building all kinds of projects.\n"
      ],
      "metadata": {
        "id": "1jwazxqpK0xI"
      }
    },
    {
      "cell_type": "markdown",
      "source": [
        "## Python\n",
        "\n",
        "Python is a **powerful** and **popular** programming language.  \n",
        "It helps us build complex web apps quickly and easily.  \n",
        "\n",
        "In this course, we’ll use **Python 3**.  \n",
        "- **Python 2** still exists, but it’s older.  \n",
        "- When looking for tutorials online, make sure they’re for **Python 3**, so the code works the same way as in this course.\n",
        "\n",
        "---\n",
        "\n",
        "### Your First Python Program — \"Hello, world!\"\n",
        "\n",
        "In Python, we can write a simple program like this:\n",
        "\n"
      ],
      "metadata": {
        "id": "lO6JILP_K8ef"
      }
    },
    {
      "cell_type": "code",
      "execution_count": null,
      "metadata": {
        "colab": {
          "base_uri": "https://localhost:8080/"
        },
        "id": "eHnX39ZiKUZj",
        "outputId": "bc3b451a-7d67-47fd-ba66-008d825f2817"
      },
      "outputs": [
        {
          "output_type": "stream",
          "name": "stdout",
          "text": [
            "Hello, world!\n"
          ]
        }
      ],
      "source": [
        "#1st Program\n",
        "print(\"Hello, world!\")"
      ]
    },
    {
      "cell_type": "markdown",
      "source": [
        "## Variables\n",
        "\n",
        "In any programming language, **variables** are used to store information that we can use later.\n",
        "\n",
        "---\n",
        "\n",
        "### How to Create Variables in Python\n",
        "\n",
        "\n"
      ],
      "metadata": {
        "id": "3OyyBGPgLWK5"
      }
    },
    {
      "cell_type": "code",
      "source": [
        "a = 28         # An integer (whole number)\n",
        "b = 1.5        # A float (decimal number)\n",
        "c = \"Hello!\"   # A string (text)\n",
        "d = True       # A boolean (True or False)\n",
        "e = None       # No value / empty"
      ],
      "metadata": {
        "id": "B1Zs5Qr8LZhA"
      },
      "execution_count": null,
      "outputs": []
    },
    {
      "cell_type": "markdown",
      "source": [
        "Taking Input from the User\n",
        "We can make programs interactive using Python’s built-in input() function.\n",
        "\n",
        "How This Works\n",
        "First line:\n",
        "\n",
        "input(\"Name: \") → Shows the message \"Name: \" and waits for the user to type something.\n",
        "\n",
        "Whatever the user types gets stored in the variable name.\n",
        "\n",
        "Second line:\n",
        "\n",
        "\"Hello, \" + name → Joins (concatenates) the text \"Hello, \" with whatever is stored in name.\n",
        "\n",
        "The result is printed on the screen.\n",
        "```python\n",
        "Name: John\n",
        "Hello, John\n"
      ],
      "metadata": {
        "id": "_UpWGX6MLuoC"
      }
    },
    {
      "cell_type": "code",
      "source": [
        "name = input(\"Name: \")\n",
        "\n"
      ],
      "metadata": {
        "colab": {
          "base_uri": "https://localhost:8080/"
        },
        "id": "WegKHp_NLorP",
        "outputId": "e1e99274-97c6-485a-fa16-7a6dcf72c3ce"
      },
      "execution_count": null,
      "outputs": [
        {
          "name": "stdout",
          "output_type": "stream",
          "text": [
            "Name: Aaditya\n"
          ]
        }
      ]
    },
    {
      "cell_type": "code",
      "source": [
        "#Now run this you will see the name you inputted\n",
        "print(\"Hello, \" + name)\n"
      ],
      "metadata": {
        "colab": {
          "base_uri": "https://localhost:8080/"
        },
        "id": "V1LyhhINL6Xz",
        "outputId": "5b575a48-bd87-489b-91f6-33e5035e4ed4"
      },
      "execution_count": null,
      "outputs": [
        {
          "output_type": "stream",
          "name": "stdout",
          "text": [
            "Hello, Aaditya\n"
          ]
        }
      ]
    },
    {
      "cell_type": "markdown",
      "source": [
        "\n",
        "\n",
        "```\n",
        " Note:\n",
        "In Python, the + operator can:\n",
        "\n",
        "Add numbers (2 + 3 = 5)\n",
        "\n",
        "Join strings (\"Hello \" + \"World\" = \"Hello World\")\n",
        "\n",
        "Join lists ([1, 2] + [3] = [1, 2, 3])\n",
        "```\n",
        "\n"
      ],
      "metadata": {
        "id": "bVmY8pgKMwjE"
      }
    },
    {
      "cell_type": "markdown",
      "source": [
        "\n",
        "## Formatting Strings\n",
        "\n",
        "- We can join strings using `+`, but newer Python versions (3.6+) have **f-strings** for cleaner formatting.\n",
        "- Add `f` before the quotes and put variables inside `{}`.\n",
        "\n",
        "Example:\n",
        "\n"
      ],
      "metadata": {
        "id": "TsnLogUzM1vO"
      }
    },
    {
      "cell_type": "code",
      "source": [
        "name = \"John\"\n",
        "print(f\"Hello, {name}\")\n",
        "\n",
        "\n"
      ],
      "metadata": {
        "colab": {
          "base_uri": "https://localhost:8080/"
        },
        "id": "Myq6U5ItN7p_",
        "outputId": "4e29c7ec-8691-4f5e-9d8b-6b8d072e682b"
      },
      "execution_count": null,
      "outputs": [
        {
          "output_type": "stream",
          "name": "stdout",
          "text": [
            "Hello, John\n"
          ]
        }
      ]
    },
    {
      "cell_type": "markdown",
      "source": [
        "* f-strings can also run functions inside `{}`.\n",
        "\n"
      ],
      "metadata": {
        "id": "iA1iM5E3OBCh"
      }
    },
    {
      "cell_type": "code",
      "source": [
        "print(f\"Hello, {input('Name: ')}\")\n",
        "\n",
        "\n"
      ],
      "metadata": {
        "id": "Wb4pSsmpODso"
      },
      "execution_count": null,
      "outputs": []
    },
    {
      "cell_type": "markdown",
      "source": [
        "* Benefits of f-strings:\n",
        "\n",
        "  * Shorter and easier to read\n",
        "  * Can insert variables and expressions directly\n",
        "  * Works with numbers, text, and calculations\n",
        "\n"
      ],
      "metadata": {
        "id": "xVSiUJVTOKzT"
      }
    },
    {
      "cell_type": "markdown",
      "source": [
        "## Conditions\n",
        "\n",
        "- Conditions let us run different code depending on certain checks.\n",
        "- Keywords: `if`, `elif`, `else`.\n",
        "- Condition lines (except `else`) must contain a **boolean expression** (evaluates to `True` or `False`).\n",
        "- Code under each condition is **indented** — indentation is required in Python.\n",
        "\n",
        "```python\n",
        "num = input(\"Number: \")\n",
        "\n",
        "if num > 0:\n",
        "    print(\"Number is positive\")\n",
        "elif num < 0:\n",
        "    print(\"Number is negative\")\n",
        "else:\n",
        "    print(\"Number is 0\")\n",
        "```\n",
        "input() always returns a string.\n",
        "\n",
        "Comparing a string to a number (> or <) causes a TypeError.\n",
        "\n",
        "\n",
        "\n",
        "\n",
        "```\n",
        "Number: 1\n",
        "---------------------------------------------------------------------------\n",
        "TypeError                                 Traceback (most recent call last)\n",
        "/tmp/ipython-input-561541383.py in <cell line: 0>()\n",
        "      1 num = input(\"Number: \")\n",
        "      2\n",
        "----> 3 if num > 0:\n",
        "      4     print(\"Number is positive\")\n",
        "      5 elif num < 0:\n",
        "\n",
        "TypeError: '>' not supported between instances of 'str' and 'int\n",
        "```\n",
        "TypeError meaning\n",
        "Happens when Python finds a value of the wrong type for an operation.\n",
        "\n",
        "In this case: cannot compare str with int.`\n",
        "\n",
        "Fix: convert the input to an integer using int().\n"
      ],
      "metadata": {
        "id": "0Un-JzL3OOT7"
      }
    },
    {
      "cell_type": "code",
      "source": [
        "num = int(input(\"Number: \")) #Putting int data specifically to remove the error\n",
        "\n",
        "if num > 0:\n",
        "    print(\"Number is positive\")\n",
        "elif num < 0:\n",
        "    print(\"Number is negative\")\n",
        "else:\n",
        "    print(\"Number is 0\")"
      ],
      "metadata": {
        "colab": {
          "base_uri": "https://localhost:8080/"
        },
        "id": "IQ-imTf0Ob8L",
        "outputId": "72a98edc-295a-4544-a1de-a06a501c5a3c"
      },
      "execution_count": null,
      "outputs": [
        {
          "output_type": "stream",
          "name": "stdout",
          "text": [
            "Number: 1\n",
            "Number is positive\n"
          ]
        }
      ]
    },
    {
      "cell_type": "markdown",
      "source": [
        "## Sequences\n",
        "\n",
        "- Python can store and work with **multiple values** in a single variable using sequences.\n",
        "- Common sequence types have different properties:\n",
        "  - **Mutable**: can change elements after creation.\n",
        "  - **Immutable**: cannot change elements after creation.\n",
        "  - **Ordered**: order of elements matters.\n",
        "  - **Unordered**: order of elements does not matter.\n"
      ],
      "metadata": {
        "id": "hhnXmB9yPVqH"
      }
    },
    {
      "cell_type": "markdown",
      "source": [
        "### Strings\n",
        "\n",
        "- **Ordered**: Yes  \n",
        "- **Mutable**: No  \n",
        "- Strings are sequences of characters.\n",
        "- Can access characters by **index** (first index is `0`).\n",
        "\n"
      ],
      "metadata": {
        "id": "W5FfJ2pgPk5B"
      }
    },
    {
      "cell_type": "code",
      "source": [
        "name = \"Harry\"\n",
        "print(name[0])  # H\n",
        "print(name[1])  # a\n"
      ],
      "metadata": {
        "colab": {
          "base_uri": "https://localhost:8080/"
        },
        "id": "c59P9KvlPnCN",
        "outputId": "7e8689e6-0b28-40ff-9e55-77864ae0df64"
      },
      "execution_count": null,
      "outputs": [
        {
          "output_type": "stream",
          "name": "stdout",
          "text": [
            "H\n",
            "a\n"
          ]
        }
      ]
    },
    {
      "cell_type": "markdown",
      "source": [
        "prints out the first (or index-0) character in the string, which in this case happens to be H, and then prints out the second (or index-1) character, which is a."
      ],
      "metadata": {
        "id": "FnhX3LX2Pujy"
      }
    },
    {
      "cell_type": "markdown",
      "source": [
        "### Lists\n",
        "\n",
        "- **Ordered**: Yes  \n",
        "- **Mutable**: Yes  \n",
        "- Can store multiple values of any type.  \n",
        "- Created using square brackets `[]` with elements separated by commas.  \n",
        "- Can access elements by index, add new items, and sort.\n",
        "\n",
        "\n"
      ],
      "metadata": {
        "id": "fIfp-LoFPqRB"
      }
    },
    {
      "cell_type": "code",
      "source": [
        "# Create a list\n",
        "names = [\"Harry\", \"Ron\", \"Hermione\"]\n",
        "\n",
        "# Print the entire list\n",
        "print(names)\n",
        "\n",
        "# Print the second element\n",
        "#as python index start from 0 , 0= harry,1=ron and 2 = hermoine\n",
        "print(names[1])\n",
        "\n",
        "# Add a new element\n",
        "names.append(\"Draco\")\n",
        "\n",
        "# Sort the list alphabetically\n",
        "names.sort()\n",
        "\n",
        "# Print the updated list\n",
        "print(names)"
      ],
      "metadata": {
        "colab": {
          "base_uri": "https://localhost:8080/"
        },
        "id": "zZLtzWaMP7f8",
        "outputId": "d564a32e-2a0a-4afc-db87-225798e003b4"
      },
      "execution_count": null,
      "outputs": [
        {
          "output_type": "stream",
          "name": "stdout",
          "text": [
            "['Harry', 'Ron', 'Hermione']\n",
            "Ron\n",
            "['Draco', 'Harry', 'Hermione', 'Ron']\n"
          ]
        }
      ]
    },
    {
      "cell_type": "markdown",
      "source": [
        "###Tuples\n",
        "\n",
        "- **Ordered**: Yes  \n",
        "- **Mutable**: No  \n",
        "- Used for storing a small group of related values (e.g., coordinates).  \n",
        "- Created using parentheses `()`.\n",
        "\n"
      ],
      "metadata": {
        "id": "ZCW7rlxrQd3V"
      }
    },
    {
      "cell_type": "code",
      "source": [
        "point = (12.5, 10.6)\n"
      ],
      "metadata": {
        "id": "Z7ZajHF2Qi1g"
      },
      "execution_count": null,
      "outputs": []
    },
    {
      "cell_type": "markdown",
      "source": [
        "### Sets\n",
        "\n",
        "- **Ordered**: No  \n",
        "- **Mutable**: N/A  \n",
        "- Stores unique values (no duplicates).  \n",
        "- Unordered — element order is not guaranteed.  \n",
        "- Use `set()` to create an empty set.  \n",
        "- Use `.add()` to add elements, `.remove()` to remove elements.  \n",
        "- Use `len()` to get the number of elements.\n",
        "\n",
        "\n"
      ],
      "metadata": {
        "id": "SudvfvmUQwPb"
      }
    },
    {
      "cell_type": "code",
      "source": [
        "# Create an empty set\n",
        "s = set()\n",
        "\n",
        "# Add elements\n",
        "s.add(1)\n",
        "s.add(2)\n",
        "s.add(3)\n",
        "s.add(4)\n",
        "s.add(3)  # duplicate ignored\n",
        "s.add(1)  # duplicate ignored\n",
        "\n",
        "# Remove an element\n",
        "s.remove(2)\n",
        "\n",
        "# Print the set\n",
        "print(s)  # it will print  {1, 3, 4}\n",
        "\n",
        "# Find size\n",
        "print(f\"The set has {len(s)} elements.\")  # The set has 3 elements.\n"
      ],
      "metadata": {
        "colab": {
          "base_uri": "https://localhost:8080/"
        },
        "id": "LQ_DSzrLQ0vv",
        "outputId": "fb35ca1f-be85-48b8-e962-4a1237a47cc4"
      },
      "execution_count": null,
      "outputs": [
        {
          "output_type": "stream",
          "name": "stdout",
          "text": [
            "{1, 3, 4}\n",
            "The set has 3 elements.\n"
          ]
        }
      ]
    },
    {
      "cell_type": "markdown",
      "source": [
        "###Dictionaries\n",
        "\n",
        "Ordered: No (in Python versions < 3.7), Yes (in Python 3.7+ insertion order is preserved, but conceptually still treated as unordered)\n",
        "\n",
        "Mutable: Yes\n",
        "\n",
        "A dictionary (dict) is a collection of key-value pairs.\n",
        "Each key must be unique, and each key maps to a value.\n",
        "Think of it like a real dictionary: a word (key) with its definition (value).\n",
        "\n",
        "Syntax\n",
        "Use  {}  to define a dictionary.\n",
        "\n",
        "Separate keys and values with  :\n",
        "\n",
        "Separate key-value pairs with commas."
      ],
      "metadata": {
        "id": "1DUyuqzBRgOV"
      }
    },
    {
      "cell_type": "code",
      "source": [
        "# Define a dictionary\n",
        "houses = {\"Harry\": \"Gryffindor\", \"Draco\": \"Slytherin\"}\n",
        "\n",
        "# Access a value using its key\n",
        "print(houses[\"Harry\"])\n",
        "\n",
        "# Add a new key-value pair\n",
        "houses[\"Hermione\"] = \"Gryffindor\"\n",
        "\n",
        "# Access the newly added value\n",
        "print(houses[\"Hermione\"])\n"
      ],
      "metadata": {
        "colab": {
          "base_uri": "https://localhost:8080/"
        },
        "id": "HlALBT_aRoXm",
        "outputId": "09cc6275-b053-4e12-c867-f778782f252b"
      },
      "execution_count": null,
      "outputs": [
        {
          "output_type": "stream",
          "name": "stdout",
          "text": [
            "Gryffindor\n",
            "Gryffindor\n"
          ]
        }
      ]
    },
    {
      "cell_type": "markdown",
      "source": [
        "### Loops\n",
        "\n",
        "Loops are an incredibly important part of any programming language, and in Python, they come in two main forms: **for loops** and **while loops**.  \n",
        "For now, we’ll focus on **for loops**.\n",
        "\n",
        "For loops are used to iterate over a sequence of elements, performing some block of code (indented below) for each element in a sequence.  \n",
        "\n"
      ],
      "metadata": {
        "id": "TVZwsiNgSI21"
      }
    },
    {
      "cell_type": "code",
      "source": [
        "#Looping over a list of numbers\n",
        "for i in [0, 1, 2, 3, 4, 5]:\n",
        "    print(i)\n"
      ],
      "metadata": {
        "colab": {
          "base_uri": "https://localhost:8080/"
        },
        "id": "LVHheKB7SKyB",
        "outputId": "8325e538-1d3f-4c2a-baa1-787533ff9124"
      },
      "execution_count": null,
      "outputs": [
        {
          "output_type": "stream",
          "name": "stdout",
          "text": [
            "0\n",
            "1\n",
            "2\n",
            "3\n",
            "4\n",
            "5\n"
          ]
        }
      ]
    },
    {
      "cell_type": "markdown",
      "source": [
        "using function range to do the same but more cleaner"
      ],
      "metadata": {
        "id": "ObkGhxI1Snfg"
      }
    },
    {
      "cell_type": "code",
      "source": [
        "for i in range(6):\n",
        "    print(i)\n"
      ],
      "metadata": {
        "colab": {
          "base_uri": "https://localhost:8080/"
        },
        "id": "A0lYXyrASRg_",
        "outputId": "c9f0fd99-3d65-4554-89aa-02d1edcd06c9"
      },
      "execution_count": null,
      "outputs": [
        {
          "output_type": "stream",
          "name": "stdout",
          "text": [
            "0\n",
            "1\n",
            "2\n",
            "3\n",
            "4\n",
            "5\n"
          ]
        }
      ]
    },
    {
      "cell_type": "code",
      "source": [
        "# Create a list:\n",
        "names = [\"Harry\", \"Ron\", \"Hermione\"]\n",
        "\n",
        "# Print each name:\n",
        "for name in names:\n",
        "    print(name)\n"
      ],
      "metadata": {
        "colab": {
          "base_uri": "https://localhost:8080/"
        },
        "id": "Ob1DPUdgSatM",
        "outputId": "d1b1d1b5-2118-489d-c287-85b562732737"
      },
      "execution_count": null,
      "outputs": [
        {
          "output_type": "stream",
          "name": "stdout",
          "text": [
            "Harry\n",
            "Ron\n",
            "Hermione\n"
          ]
        }
      ]
    },
    {
      "cell_type": "markdown",
      "source": [
        "Looping through character of string"
      ],
      "metadata": {
        "id": "e299SARCSgs-"
      }
    },
    {
      "cell_type": "code",
      "source": [
        "name = \"Harry\"\n",
        "for char in name:\n",
        "    print(char)\n"
      ],
      "metadata": {
        "colab": {
          "base_uri": "https://localhost:8080/"
        },
        "id": "hzg2Cl8HSfbz",
        "outputId": "e27cc2bd-a38f-468b-f5b0-2146ae58d012"
      },
      "execution_count": null,
      "outputs": [
        {
          "output_type": "stream",
          "name": "stdout",
          "text": [
            "H\n",
            "a\n",
            "r\n",
            "r\n",
            "y\n"
          ]
        }
      ]
    },
    {
      "cell_type": "markdown",
      "source": [
        "## Functions\n",
        "\n",
        "- Block of code that performs a specific task.\n",
        "- Takes inputs (**parameters**) and can return an output.\n",
        "- Defined using `def` and called using its name.\n",
        "\n"
      ],
      "metadata": {
        "id": "qT7s4bXuTKLu"
      }
    },
    {
      "cell_type": "code",
      "source": [
        "def square(x):\n",
        "    return x * x\n",
        "\n",
        "for i in range(10):\n",
        "    print(f\"The square of {i} is {square(i)}\")\n"
      ],
      "metadata": {
        "colab": {
          "base_uri": "https://localhost:8080/"
        },
        "id": "U0H_FWfzTNGJ",
        "outputId": "9befc7d1-0229-4391-b5db-9b7f24dcefbb"
      },
      "execution_count": null,
      "outputs": [
        {
          "output_type": "stream",
          "name": "stdout",
          "text": [
            "The square of 0 is 0\n",
            "The square of 1 is 1\n",
            "The square of 2 is 4\n",
            "The square of 3 is 9\n",
            "The square of 4 is 16\n",
            "The square of 5 is 25\n",
            "The square of 6 is 36\n",
            "The square of 7 is 49\n",
            "The square of 8 is 64\n",
            "The square of 9 is 81\n"
          ]
        }
      ]
    },
    {
      "cell_type": "markdown",
      "source": [
        "## Object-Oriented Programming\n",
        "\n",
        "### Overview\n",
        "Object-Oriented Programming (OOP) is a programming paradigm focused on **objects** that can:\n",
        "- Store information (data/attributes).\n",
        "- Perform actions (methods).\n",
        "\n",
        "---\n",
        "\n",
        "### Classes\n",
        "A **class** is a template for creating objects with:\n",
        "- Attributes (variables belonging to the object).\n",
        "- Methods (functions belonging to the object).\n",
        "\n",
        "Example: A 2D Point class.\n",
        "\n"
      ],
      "metadata": {
        "id": "rFKEyuu0ULtO"
      }
    },
    {
      "cell_type": "code",
      "source": [
        "class Point():\n",
        "    # Method defining how to create a point\n",
        "    def __init__(self, x, y):\n",
        "        self.x = x #Here, self refers to the specific object being worked with.\n",
        "        self.y = y #It must be the first argument in any class method.\n",
        "\n",
        "p = Point(2, 8)\n",
        "print(p.x)\n",
        "print(p.y)\n",
        "\n"
      ],
      "metadata": {
        "colab": {
          "base_uri": "https://localhost:8080/"
        },
        "id": "hfTd04xEUTyA",
        "outputId": "128feec1-9027-4d75-f341-71b8fccaa353"
      },
      "execution_count": null,
      "outputs": [
        {
          "output_type": "stream",
          "name": "stdout",
          "text": [
            "2\n",
            "8\n"
          ]
        }
      ]
    },
    {
      "cell_type": "markdown",
      "source": [
        "Now, let’s try out the class we’ve created by instantiating some objects:\n",
        "\n",
        "Example: Flight Class (Basic)\n"
      ],
      "metadata": {
        "id": "ekQRyTFtUbM4"
      }
    },
    {
      "cell_type": "code",
      "source": [
        "class Flight():\n",
        "    # Method to create new flight with given capacity\n",
        "    def __init__(self, capacity):\n",
        "        self.capacity = capacity\n",
        "        self.passengers = []\n",
        "\n",
        "    # Method to add a passenger to the flight\n",
        "    def add_passenger(self, name):\n",
        "        self.passengers.append(name)"
      ],
      "metadata": {
        "id": "HBTIyhn3VJWC"
      },
      "execution_count": null,
      "outputs": []
    },
    {
      "cell_type": "markdown",
      "source": [
        "However, this class is flawed because while we set a capacity, we could still add too many passengers. Let’s augment it so that before adding a passenger, we check to see if there is room on the flight:"
      ],
      "metadata": {
        "id": "T-_qGopmVlcC"
      }
    },
    {
      "cell_type": "markdown",
      "source": [
        "##Improving the Flight Class (Capacity Check):\n"
      ],
      "metadata": {
        "id": "ECYTLZ9hVe6h"
      }
    },
    {
      "cell_type": "code",
      "source": [
        "class Flight():\n",
        "    # Method to create new flight with given capacity\n",
        "    def __init__(self, capacity):\n",
        "        self.capacity = capacity\n",
        "        self.passengers = []\n",
        "\n",
        "    # Method to add a passenger to the flight\n",
        "    def add_passenger(self, name):\n",
        "        if not self.open_seats():\n",
        "            return False\n",
        "        self.passengers.append(name)\n",
        "        return True\n",
        "\n",
        "    # Method to return number of open seats\n",
        "    def open_seats(self):\n",
        "        return self.capacity - len(self.passengers)\n"
      ],
      "metadata": {
        "id": "rA1ixVj3VbBt"
      },
      "execution_count": null,
      "outputs": []
    },
    {
      "cell_type": "markdown",
      "source": [
        "Explanation:\n",
        "\n",
        "if not self.open_seats() works because in Python:\n",
        "\n",
        "0 is interpreted as False\n",
        "\n",
        "not reverses the truth value\n",
        "\n",
        "If no seats remain, the condition becomes True and prevents adding passengers.\n",
        "\n",
        "now we can use the Flight Class Efficiently"
      ],
      "metadata": {
        "id": "KYQ0pQsSV0Xg"
      }
    },
    {
      "cell_type": "code",
      "source": [
        "# Create a new flight with up to 3 passengers\n",
        "flight = Flight(3)\n",
        "\n",
        "# Create a list of people\n",
        "people = [\"Harry\", \"Ron\", \"Hermione\", \"Ginny\"]\n",
        "\n",
        "# Attempt to add each person to the flight\n",
        "for person in people:\n",
        "    if flight.add_passenger(person):\n",
        "        print(f\"Added {person} to flight successfully\")\n",
        "    else:\n",
        "        print(f\"No available seats for {person}\")\n",
        "\n",
        "##if Error running make sure to run above code cell first\n"
      ],
      "metadata": {
        "colab": {
          "base_uri": "https://localhost:8080/",
          "height": 122
        },
        "id": "Up1DJ9JFV2Rt",
        "outputId": "15da1ca8-676e-4431-8dcc-147d1a58a065"
      },
      "execution_count": null,
      "outputs": [
        {
          "output_type": "stream",
          "name": "stdout",
          "text": [
            "Added Harry to flight successfully\n",
            "Added Ron to flight successfully\n",
            "Added Hermione to flight successfully\n",
            "No available seats for Ginny\n"
          ]
        },
        {
          "output_type": "execute_result",
          "data": {
            "text/plain": [
              "' Output:\\nAdded Harry to flight successfully\\nAdded Ron to flight successfully\\nAdded Hermione to flight successfully\\nNo available seats for Ginny\\n'"
            ],
            "application/vnd.google.colaboratory.intrinsic+json": {
              "type": "string"
            }
          },
          "metadata": {},
          "execution_count": 48
        }
      ]
    },
    {
      "cell_type": "markdown",
      "source": [
        "# Lambda Functions\n",
        "\n",
        "Lambda functions provide a concise way to create small, anonymous functions in Python."
      ],
      "metadata": {
        "id": "2WiOZL_LWYzg"
      }
    },
    {
      "cell_type": "code",
      "source": [
        "#Function using lambda\n",
        "square = lambda x: x * x\n",
        "\n",
        "for i  in range(10):\n",
        "  print(f' the square of {i} is {square(i)}')"
      ],
      "metadata": {
        "colab": {
          "base_uri": "https://localhost:8080/"
        },
        "id": "35Lr6rZJWcTE",
        "outputId": "f351d6db-a72f-413a-8bc9-826ca629bb87"
      },
      "execution_count": null,
      "outputs": [
        {
          "output_type": "stream",
          "name": "stdout",
          "text": [
            " the square of 0 is 0\n",
            " the square of 1 is 1\n",
            " the square of 2 is 4\n",
            " the square of 3 is 9\n",
            " the square of 4 is 16\n",
            " the square of 5 is 25\n",
            " the square of 6 is 36\n",
            " the square of 7 is 49\n",
            " the square of 8 is 64\n",
            " the square of 9 is 81\n"
          ]
        }
      ]
    },
    {
      "cell_type": "markdown",
      "source": [
        "Useful when you don’t want to define a separate function for short, one-time use.\n",
        "\n",
        "Example: Sorting with a Key\n",
        "If we have a list of dictionaries and want to sort by a specific key:\n",
        "\n"
      ],
      "metadata": {
        "id": "Z-yvXgQuW56q"
      }
    },
    {
      "cell_type": "code",
      "source": [
        "people = [\n",
        "    {\"name\": \"Harry\", \"house\": \"Gryffindor\"},\n",
        "    {\"name\": \"Cho\", \"house\": \"Ravenclaw\"},\n",
        "    {\"name\": \"Draco\", \"house\": \"Slytherin\"}\n",
        "]\n",
        "\n",
        "people.sort()\n",
        "print(people)\n"
      ],
      "metadata": {
        "id": "e5dhrwtGW8Ji"
      },
      "execution_count": null,
      "outputs": []
    },
    {
      "cell_type": "markdown",
      "source": [
        "\n",
        "\n",
        "```\n",
        "---------------------------------------------------------------------------\n",
        "TypeError                                 Traceback (most recent call last)\n",
        "/tmp/ipython-input-2508452158.py in <cell line: 0>()\n",
        "      5 ]\n",
        "      6\n",
        "----> 7 people.sort()\n",
        "      8 print(people)\n",
        "\n",
        "TypeError: '<' not supported between instances of 'dict' and 'dict'\n",
        "```\n",
        "\n"
      ],
      "metadata": {
        "id": "v6Ud4ni4W2JX"
      }
    },
    {
      "cell_type": "markdown",
      "source": [
        "The error occurs because Python doesn’t know how to compare two dictionaries directly.\n",
        "\n",
        "Solution 1: Using a Normal Function"
      ],
      "metadata": {
        "id": "KarfDyI1XJDz"
      }
    },
    {
      "cell_type": "code",
      "source": [
        "def func(person):\n",
        "    return person[\"name\"]\n",
        "\n",
        "people.sort(key=func)\n",
        "print(people)\n"
      ],
      "metadata": {
        "colab": {
          "base_uri": "https://localhost:8080/"
        },
        "id": "8rsD1zpWXO9c",
        "outputId": "dfc434dc-2511-4488-bf14-129528b5069d"
      },
      "execution_count": null,
      "outputs": [
        {
          "output_type": "stream",
          "name": "stdout",
          "text": [
            "[{'name': 'Cho', 'house': 'Ravenclaw'}, {'name': 'Draco', 'house': 'Slytherin'}, {'name': 'Harry', 'house': 'Gryffindor'}]\n"
          ]
        }
      ]
    },
    {
      "cell_type": "markdown",
      "source": [
        "Solution 2: Using a Lambda Function (Cleaner)\n",
        "No extra named function , shorter and more readable."
      ],
      "metadata": {
        "id": "JzdQu1MFXgw0"
      }
    },
    {
      "cell_type": "code",
      "source": [
        "people.sort(key=lambda person: person[\"name\"])\n",
        "print(people)\n"
      ],
      "metadata": {
        "colab": {
          "base_uri": "https://localhost:8080/"
        },
        "id": "erDFG8fwXeUo",
        "outputId": "c0b94b95-4b84-4796-ae84-65e2212031f8"
      },
      "execution_count": null,
      "outputs": [
        {
          "output_type": "stream",
          "name": "stdout",
          "text": [
            "[{'name': 'Cho', 'house': 'Ravenclaw'}, {'name': 'Draco', 'house': 'Slytherin'}, {'name': 'Harry', 'house': 'Gryffindor'}]\n"
          ]
        }
      ]
    },
    {
      "cell_type": "markdown",
      "source": [
        "# Exceptions\n",
        "\n",
        "Exceptions are errors that occur during the execution of a program. Python provides ways to handle them gracefully so the program doesn’t crash unexpectedly.\n",
        "\n",
        "## Example: Division Without Error Handling\n",
        "\n",
        "\n"
      ],
      "metadata": {
        "id": "suEXWnZAX0We"
      }
    },
    {
      "cell_type": "code",
      "source": [
        "\n",
        "x = int(input(\"x: \"))\n",
        "y = int(input(\"y: \"))\n",
        "\n",
        "result = x / y\n",
        "print(f\"{x} / {y} = {result}\")"
      ],
      "metadata": {
        "id": "CSfFiDyOX2le"
      },
      "execution_count": null,
      "outputs": []
    },
    {
      "cell_type": "markdown",
      "source": [
        "\n",
        "\n",
        "```\n",
        "x: 5\n",
        "y: 0\n",
        "---------------------------------------------------------------------------\n",
        "ZeroDivisionError                         Traceback (most recent call last)\n",
        "/tmp/ipython-input-105493442.py in <cell line: 0>()\n",
        "      2 y = int(input(\"y: \"))\n",
        "      3\n",
        "----> 4 result = x / y\n",
        "      5 print(f\"{x} / {y} = {result}\")\n",
        "\n",
        "ZeroDivisionError: division by zero\n",
        "```\n",
        "\n"
      ],
      "metadata": {
        "id": "iGLqOAiuYQpU"
      }
    },
    {
      "cell_type": "markdown",
      "source": [
        "###Handling a ZeroDivisionError\n",
        "We can use a try/except block to catch the error and handle it:"
      ],
      "metadata": {
        "id": "ZH9iqrPzYXuo"
      }
    },
    {
      "cell_type": "code",
      "source": [
        "import sys\n",
        "\n",
        "x = int(input(\"x: \"))\n",
        "y = int(input(\"y: \"))\n",
        "\n",
        "try:\n",
        "    result = x / y\n",
        "except ZeroDivisionError:\n",
        "    print(\"Error: Cannot divide by 0.\")\n",
        "    sys.exit(1)\n",
        "\n",
        "print(f\"{x} / {y} = {result}\")\n"
      ],
      "metadata": {
        "id": "APF1EE7OYcsl"
      },
      "execution_count": null,
      "outputs": []
    },
    {
      "cell_type": "markdown",
      "source": [
        "\n",
        "\n",
        "```\n",
        "Error: Cannot divide by 0.\n",
        "Traceback (most recent call last):\n",
        "  File \"/tmp/ipython-input-1334736465.py\", line 7, in <cell line: 0>\n",
        "    result = x / y\n",
        "             ~~^~~\n",
        "ZeroDivisionError: division by zero\n",
        "```\n",
        "\n"
      ],
      "metadata": {
        "id": "Vj_yHIIYYpgH"
      }
    },
    {
      "cell_type": "markdown",
      "source": [
        "###Handling Multiple Exception Types\n",
        "If the user enters non-numeric input or say batman as an input, a ValueError occurs. We can handle that too:"
      ],
      "metadata": {
        "id": "IocAZ4pSYv8x"
      }
    },
    {
      "cell_type": "code",
      "source": [
        "import sys\n",
        "\n",
        "try:\n",
        "    x = int(input(\"x: \"))\n",
        "    y = int(input(\"y: \"))\n",
        "except ValueError:\n",
        "    print(\"Error: Invalid input\")\n",
        "    sys.exit(1)\n",
        "\n",
        "try:\n",
        "    result = x / y\n",
        "except ZeroDivisionError:\n",
        "    print(\"Error: Cannot divide by 0.\")\n",
        "    sys.exit(1)\n",
        "\n",
        "print(f\"{x} / {y} = {result}\")\n"
      ],
      "metadata": {
        "id": "De23WqOgYyLk"
      },
      "execution_count": null,
      "outputs": []
    },
    {
      "cell_type": "markdown",
      "source": [
        "\n",
        "\n",
        "```\n",
        "Error: Invalid input\n",
        "Traceback (most recent call last):\n",
        "  File \"/tmp/ipython-input-2980676082.py\", line 4, in <cell line: 0>\n",
        "    x = int(input(\"x: \"))\n",
        "        ^^^^^^^^^^^^^^^^^\n",
        "ValueError: invalid literal for int() with base 10: 'batman'\n",
        "```\n",
        "\n"
      ],
      "metadata": {
        "id": "R32trUvsY9mQ"
      }
    },
    {
      "cell_type": "markdown",
      "source": [
        "---\n",
        "\n",
        "## Author\n",
        " <p align=\"left\">\n",
        "  Created and maintained by\n",
        "  <a href=\"https://github.com/aypy01\" target=\"_blank\">&nbsp Aaditya Yadav</a>&nbsp\n",
        "  <a href=\"https://github.com/aypy01\" target=\"_blank\">\n",
        "    <img src=\"https://img.shields.io/badge/aypy01-000000?style=flat-square&logo=github&logoColor=00FF80\" alt=\"GitHub Badge\"/>\n",
        "  </a>\n",
        "</p>\n",
        "\n",
        "</p>\n",
        "<p align=\"left\">\n",
        "  <img src=\"https://readme-typing-svg.demolab.com?font=Fira+Code&duration=3000&pause=500&color=00FF80&center=false&vCenter=false&width=440&lines=Break+Things+First%2C+Understand+Later;Built+to+Debug%2C+Not+Repeat;Learning+What+Actually+Sticks;Code.+Observe.+Refine.\" alt=\"Typing SVG\" />\n",
        "</p>\n",
        "\n",
        "---\n",
        "\n"
      ],
      "metadata": {
        "id": "v3jxc69Tb2_X"
      }
    },
    {
      "cell_type": "markdown",
      "source": [
        "## License\n",
        "\n",
        "This project is licensed under the [![License: MIT](https://img.shields.io/badge/License-MIT-yellow.svg)](https://opensource.org/licenses/MIT).\n",
        "\n",
        "---"
      ],
      "metadata": {
        "id": "m4y5QvA2b5L0"
      }
    }
  ]
}